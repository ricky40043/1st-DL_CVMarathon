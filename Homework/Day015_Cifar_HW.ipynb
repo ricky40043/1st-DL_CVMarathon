{
 "cells": [
  {
   "cell_type": "markdown",
   "metadata": {},
   "source": [
    "## 『本次練習內容』\n",
    "#### 運用這幾天所學觀念搭建一個CNN分類器"
   ]
  },
  {
   "cell_type": "markdown",
   "metadata": {},
   "source": [
    "## 『本次練習目的』\n",
    "  #### 熟悉CNN分類器搭建步驟與原理\n",
    "  #### 學員們可以嘗試不同搭法，如使用不同的Maxpooling層，用GlobalAveragePooling取代Flatten等等"
   ]
  },
  {
   "cell_type": "code",
   "execution_count": 1,
   "metadata": {},
   "outputs": [
    {
     "name": "stderr",
     "output_type": "stream",
     "text": [
      "Using TensorFlow backend.\n",
      "C:\\Users\\ricky\\Anaconda3\\envs\\tensorflow-gpu\\lib\\site-packages\\tensorflow\\python\\framework\\dtypes.py:526: FutureWarning: Passing (type, 1) or '1type' as a synonym of type is deprecated; in a future version of numpy, it will be understood as (type, (1,)) / '(1,)type'.\n",
      "  _np_qint8 = np.dtype([(\"qint8\", np.int8, 1)])\n",
      "C:\\Users\\ricky\\Anaconda3\\envs\\tensorflow-gpu\\lib\\site-packages\\tensorflow\\python\\framework\\dtypes.py:527: FutureWarning: Passing (type, 1) or '1type' as a synonym of type is deprecated; in a future version of numpy, it will be understood as (type, (1,)) / '(1,)type'.\n",
      "  _np_quint8 = np.dtype([(\"quint8\", np.uint8, 1)])\n",
      "C:\\Users\\ricky\\Anaconda3\\envs\\tensorflow-gpu\\lib\\site-packages\\tensorflow\\python\\framework\\dtypes.py:528: FutureWarning: Passing (type, 1) or '1type' as a synonym of type is deprecated; in a future version of numpy, it will be understood as (type, (1,)) / '(1,)type'.\n",
      "  _np_qint16 = np.dtype([(\"qint16\", np.int16, 1)])\n",
      "C:\\Users\\ricky\\Anaconda3\\envs\\tensorflow-gpu\\lib\\site-packages\\tensorflow\\python\\framework\\dtypes.py:529: FutureWarning: Passing (type, 1) or '1type' as a synonym of type is deprecated; in a future version of numpy, it will be understood as (type, (1,)) / '(1,)type'.\n",
      "  _np_quint16 = np.dtype([(\"quint16\", np.uint16, 1)])\n",
      "C:\\Users\\ricky\\Anaconda3\\envs\\tensorflow-gpu\\lib\\site-packages\\tensorflow\\python\\framework\\dtypes.py:530: FutureWarning: Passing (type, 1) or '1type' as a synonym of type is deprecated; in a future version of numpy, it will be understood as (type, (1,)) / '(1,)type'.\n",
      "  _np_qint32 = np.dtype([(\"qint32\", np.int32, 1)])\n",
      "C:\\Users\\ricky\\Anaconda3\\envs\\tensorflow-gpu\\lib\\site-packages\\tensorflow\\python\\framework\\dtypes.py:535: FutureWarning: Passing (type, 1) or '1type' as a synonym of type is deprecated; in a future version of numpy, it will be understood as (type, (1,)) / '(1,)type'.\n",
      "  np_resource = np.dtype([(\"resource\", np.ubyte, 1)])\n"
     ]
    },
    {
     "name": "stdout",
     "output_type": "stream",
     "text": [
      "[name: \"/device:CPU:0\"\n",
      "device_type: \"CPU\"\n",
      "memory_limit: 268435456\n",
      "locality {\n",
      "}\n",
      "incarnation: 9546143108024409161\n",
      ", name: \"/device:GPU:0\"\n",
      "device_type: \"GPU\"\n",
      "memory_limit: 9119690261\n",
      "locality {\n",
      "  bus_id: 1\n",
      "  links {\n",
      "  }\n",
      "}\n",
      "incarnation: 14775958234906168423\n",
      "physical_device_desc: \"device: 0, name: GeForce RTX 2080 Ti, pci bus id: 0000:01:00.0, compute capability: 7.5\"\n",
      "]\n"
     ]
    }
   ],
   "source": [
    "from keras.models import Sequential\n",
    "from keras.layers import Convolution2D\n",
    "from keras.layers import MaxPooling2D\n",
    "from keras.layers import Flatten\n",
    "from keras.layers import Dense\n",
    "from keras.layers import Dropout\n",
    "from keras.layers import BatchNormalization\n",
    "from keras.datasets import cifar10\n",
    "import numpy as np\n",
    "import tensorflow as tf\n",
    "from sklearn.preprocessing import OneHotEncoder\n",
    "from tensorflow.python.client import device_lib\n",
    "print(device_lib.list_local_devices())"
   ]
  },
  {
   "cell_type": "code",
   "execution_count": 2,
   "metadata": {},
   "outputs": [
    {
     "name": "stdout",
     "output_type": "stream",
     "text": [
      "(50000, 32, 32, 3)\n",
      "(50000, 32, 32, 3)\n",
      "(10000, 32, 32, 3)\n",
      "()\n",
      "()\n"
     ]
    }
   ],
   "source": [
    "(x_train, y_train), (x_test, y_test) = cifar10.load_data()\n",
    "\n",
    "print(x_train.shape) #(50000, 32, 32, 3)\n",
    "\n",
    "## Normalize Data\n",
    "def normalize(X_train,X_test):\n",
    "        mean = np.mean(X_train,axis=(0,1,2,3))\n",
    "        std = np.std(X_train, axis=(0, 1, 2, 3))\n",
    "        X_train = (X_train-mean)/(std+1e-7)\n",
    "        X_test = (X_test-mean)/(std+1e-7) \n",
    "        return X_train, X_test,mean,std\n",
    "    \n",
    "    \n",
    "## Normalize Training and Testset    \n",
    "x_train, x_test,mean_train,std_train = normalize(x_train, x_test) \n",
    "print(x_train.shape)\n",
    "print(x_test.shape)\n",
    "print(mean_train.shape)\n",
    "print(std_train.shape)"
   ]
  },
  {
   "cell_type": "code",
   "execution_count": 3,
   "metadata": {},
   "outputs": [],
   "source": [
    "## OneHot Label 由(None, 1)-(None, 10)\n",
    "## ex. label=2,變成[0,0,1,0,0,0,0,0,0,0]\n",
    "one_hot=OneHotEncoder()\n",
    "y_train=one_hot.fit_transform(y_train).toarray()\n",
    "y_test=one_hot.transform(y_test).toarray()"
   ]
  },
  {
   "cell_type": "code",
   "execution_count": 4,
   "metadata": {},
   "outputs": [],
   "source": [
    "classifier=Sequential()"
   ]
  },
  {
   "cell_type": "code",
   "execution_count": 5,
   "metadata": {},
   "outputs": [
    {
     "name": "stdout",
     "output_type": "stream",
     "text": [
      "WARNING:tensorflow:From C:\\Users\\ricky\\Anaconda3\\envs\\tensorflow-gpu\\lib\\site-packages\\tensorflow\\python\\framework\\op_def_library.py:263: colocate_with (from tensorflow.python.framework.ops) is deprecated and will be removed in a future version.\n",
      "Instructions for updating:\n",
      "Colocations handled automatically by placer.\n"
     ]
    }
   ],
   "source": [
    "#卷積組合\n",
    "classifier.add(Convolution2D(32,kernel_size = (3,3),input_shape=(32,32,3),activation='relu'))\n",
    "classifier.add(BatchNormalization())"
   ]
  },
  {
   "cell_type": "code",
   "execution_count": 6,
   "metadata": {},
   "outputs": [],
   "source": [
    "'''自己決定MaxPooling2D放在哪裡'''\n",
    "classifier.add(MaxPooling2D(pool_size=(2,2)))"
   ]
  },
  {
   "cell_type": "code",
   "execution_count": 7,
   "metadata": {},
   "outputs": [],
   "source": [
    "#卷積組合                        \n",
    "classifier.add(Convolution2D(64,kernel_size =(3,3),activation='relu'))\n",
    "classifier.add(BatchNormalization())\n",
    "classifier.add(MaxPooling2D(pool_size=(2,2)))"
   ]
  },
  {
   "cell_type": "code",
   "execution_count": 8,
   "metadata": {},
   "outputs": [],
   "source": [
    "#flatten\n",
    "classifier.add(Flatten())"
   ]
  },
  {
   "cell_type": "code",
   "execution_count": 9,
   "metadata": {},
   "outputs": [
    {
     "name": "stderr",
     "output_type": "stream",
     "text": [
      "C:\\Users\\ricky\\Anaconda3\\envs\\tensorflow-gpu\\lib\\site-packages\\ipykernel_launcher.py:2: UserWarning: Update your `Dense` call to the Keras 2 API: `Dense(activation=\"relu\", units=100)`\n",
      "  \n"
     ]
    }
   ],
   "source": [
    "#FC\n",
    "classifier.add(Dense(output_dim=100,activation='relu')) #output_dim=100,activation=relu"
   ]
  },
  {
   "cell_type": "code",
   "execution_count": 10,
   "metadata": {},
   "outputs": [
    {
     "name": "stderr",
     "output_type": "stream",
     "text": [
      "C:\\Users\\ricky\\Anaconda3\\envs\\tensorflow-gpu\\lib\\site-packages\\ipykernel_launcher.py:2: UserWarning: Update your `Dense` call to the Keras 2 API: `Dense(activation=\"sigmoid\", units=10)`\n",
      "  \n"
     ]
    }
   ],
   "source": [
    "#輸出\n",
    "classifier.add(Dense(output_dim=10,activation='sigmoid'))"
   ]
  },
  {
   "cell_type": "code",
   "execution_count": 11,
   "metadata": {},
   "outputs": [],
   "source": [
    "#超過兩個就要選categorical_crossentrophy\n",
    "classifier.compile(optimizer = 'adam', loss = 'categorical_crossentropy', metrics = ['accuracy'])\n"
   ]
  },
  {
   "cell_type": "code",
   "execution_count": 15,
   "metadata": {},
   "outputs": [
    {
     "name": "stdout",
     "output_type": "stream",
     "text": [
      "Epoch 1/100\n",
      "50000/50000 [==============================] - 4s 77us/step - loss: 2.3026 - acc: 0.1000\n",
      "Epoch 2/100\n",
      "50000/50000 [==============================] - 4s 73us/step - loss: 2.3026 - acc: 0.1000\n",
      "Epoch 3/100\n",
      "50000/50000 [==============================] - 4s 73us/step - loss: 2.3026 - acc: 0.1000\n",
      "Epoch 4/100\n",
      "50000/50000 [==============================] - 4s 72us/step - loss: 2.3026 - acc: 0.1000\n",
      "Epoch 5/100\n",
      "50000/50000 [==============================] - 4s 72us/step - loss: 2.3026 - acc: 0.1000\n",
      "Epoch 6/100\n",
      "50000/50000 [==============================] - 4s 73us/step - loss: 2.3026 - acc: 0.1000\n",
      "Epoch 7/100\n",
      "50000/50000 [==============================] - 4s 71us/step - loss: 2.3026 - acc: 0.1000\n",
      "Epoch 8/100\n",
      "50000/50000 [==============================] - 4s 71us/step - loss: 2.3026 - acc: 0.1000\n",
      "Epoch 9/100\n",
      "50000/50000 [==============================] - 4s 71us/step - loss: 2.3026 - acc: 0.1000\n",
      "Epoch 10/100\n",
      "50000/50000 [==============================] - 4s 72us/step - loss: 2.3026 - acc: 0.1000\n",
      "Epoch 11/100\n",
      "50000/50000 [==============================] - 4s 72us/step - loss: 2.3026 - acc: 0.1000\n",
      "Epoch 12/100\n",
      "50000/50000 [==============================] - 4s 72us/step - loss: 2.3026 - acc: 0.1000\n",
      "Epoch 13/100\n",
      "50000/50000 [==============================] - 4s 72us/step - loss: 2.3026 - acc: 0.1000\n",
      "Epoch 14/100\n",
      "50000/50000 [==============================] - 4s 72us/step - loss: 2.3026 - acc: 0.1000\n",
      "Epoch 15/100\n",
      "50000/50000 [==============================] - 4s 72us/step - loss: 2.3026 - acc: 0.1000\n",
      "Epoch 16/100\n",
      "50000/50000 [==============================] - 4s 72us/step - loss: 2.3026 - acc: 0.1000\n",
      "Epoch 17/100\n",
      "50000/50000 [==============================] - 4s 72us/step - loss: 2.3026 - acc: 0.1000\n",
      "Epoch 18/100\n",
      "50000/50000 [==============================] - 4s 72us/step - loss: 2.3026 - acc: 0.1000\n",
      "Epoch 19/100\n",
      "50000/50000 [==============================] - 4s 72us/step - loss: 2.3026 - acc: 0.1000\n",
      "Epoch 20/100\n",
      "50000/50000 [==============================] - 4s 73us/step - loss: 2.3026 - acc: 0.1000\n",
      "Epoch 21/100\n",
      "50000/50000 [==============================] - 4s 73us/step - loss: 2.3026 - acc: 0.1000\n",
      "Epoch 22/100\n",
      "50000/50000 [==============================] - 4s 73us/step - loss: 2.3026 - acc: 0.1000\n",
      "Epoch 23/100\n",
      "50000/50000 [==============================] - 4s 72us/step - loss: 2.3026 - acc: 0.1000\n",
      "Epoch 24/100\n",
      "50000/50000 [==============================] - 4s 72us/step - loss: 2.3026 - acc: 0.1000\n",
      "Epoch 25/100\n",
      "50000/50000 [==============================] - 4s 72us/step - loss: 2.3026 - acc: 0.1000\n",
      "Epoch 26/100\n",
      "50000/50000 [==============================] - 4s 72us/step - loss: 2.3026 - acc: 0.1000\n",
      "Epoch 27/100\n",
      "50000/50000 [==============================] - 4s 72us/step - loss: 2.3026 - acc: 0.1000\n",
      "Epoch 28/100\n",
      "50000/50000 [==============================] - 4s 73us/step - loss: 2.3026 - acc: 0.1000\n",
      "Epoch 29/100\n",
      "50000/50000 [==============================] - 4s 72us/step - loss: 2.3026 - acc: 0.1000\n",
      "Epoch 30/100\n",
      "50000/50000 [==============================] - 4s 73us/step - loss: 2.3026 - acc: 0.1000\n",
      "Epoch 31/100\n",
      "50000/50000 [==============================] - 4s 72us/step - loss: 2.3026 - acc: 0.1000\n",
      "Epoch 32/100\n",
      "50000/50000 [==============================] - 4s 72us/step - loss: 2.3026 - acc: 0.1000\n",
      "Epoch 33/100\n",
      "50000/50000 [==============================] - 4s 71us/step - loss: 2.3026 - acc: 0.1000\n",
      "Epoch 34/100\n",
      "50000/50000 [==============================] - 4s 71us/step - loss: 2.3026 - acc: 0.1000\n",
      "Epoch 35/100\n",
      "50000/50000 [==============================] - 4s 72us/step - loss: 2.3026 - acc: 0.1000\n",
      "Epoch 36/100\n",
      "50000/50000 [==============================] - 4s 73us/step - loss: 2.3026 - acc: 0.1000\n",
      "Epoch 37/100\n",
      "50000/50000 [==============================] - 4s 73us/step - loss: 2.3026 - acc: 0.1000\n",
      "Epoch 38/100\n",
      "50000/50000 [==============================] - 4s 72us/step - loss: 2.3026 - acc: 0.1000\n",
      "Epoch 39/100\n",
      "50000/50000 [==============================] - 4s 72us/step - loss: 2.3026 - acc: 0.1000\n",
      "Epoch 40/100\n",
      "50000/50000 [==============================] - 4s 72us/step - loss: 2.3026 - acc: 0.1000\n",
      "Epoch 41/100\n",
      "50000/50000 [==============================] - 4s 72us/step - loss: 2.3026 - acc: 0.1000\n",
      "Epoch 42/100\n",
      "50000/50000 [==============================] - 4s 72us/step - loss: 2.3026 - acc: 0.1000\n",
      "Epoch 43/100\n",
      "50000/50000 [==============================] - 4s 72us/step - loss: 2.3026 - acc: 0.1000\n",
      "Epoch 44/100\n",
      "50000/50000 [==============================] - 4s 72us/step - loss: 2.3026 - acc: 0.1000\n",
      "Epoch 45/100\n",
      "50000/50000 [==============================] - 4s 72us/step - loss: 2.3026 - acc: 0.1000\n",
      "Epoch 46/100\n",
      "50000/50000 [==============================] - 4s 72us/step - loss: 2.3026 - acc: 0.1000\n",
      "Epoch 47/100\n",
      "50000/50000 [==============================] - 4s 72us/step - loss: 2.3026 - acc: 0.1000\n",
      "Epoch 48/100\n",
      "50000/50000 [==============================] - 4s 72us/step - loss: 2.3026 - acc: 0.1000\n",
      "Epoch 49/100\n",
      "50000/50000 [==============================] - 4s 72us/step - loss: 2.3026 - acc: 0.1000\n",
      "Epoch 50/100\n",
      "50000/50000 [==============================] - 4s 72us/step - loss: 2.3026 - acc: 0.1000\n",
      "Epoch 51/100\n",
      "50000/50000 [==============================] - 4s 72us/step - loss: 2.3026 - acc: 0.1000\n",
      "Epoch 52/100\n",
      "50000/50000 [==============================] - 4s 72us/step - loss: 2.3026 - acc: 0.1000\n",
      "Epoch 53/100\n",
      "50000/50000 [==============================] - 4s 72us/step - loss: 2.3026 - acc: 0.1000\n",
      "Epoch 54/100\n",
      "50000/50000 [==============================] - 4s 72us/step - loss: 2.3026 - acc: 0.1000\n",
      "Epoch 55/100\n",
      "50000/50000 [==============================] - 4s 73us/step - loss: 2.3026 - acc: 0.1000\n",
      "Epoch 56/100\n",
      "50000/50000 [==============================] - 4s 72us/step - loss: 2.3026 - acc: 0.1000\n",
      "Epoch 57/100\n",
      "50000/50000 [==============================] - 4s 72us/step - loss: 2.3026 - acc: 0.1000\n",
      "Epoch 58/100\n",
      "50000/50000 [==============================] - 4s 72us/step - loss: 2.3026 - acc: 0.1000\n",
      "Epoch 59/100\n",
      "50000/50000 [==============================] - 4s 73us/step - loss: 2.3026 - acc: 0.1000\n",
      "Epoch 60/100\n",
      "50000/50000 [==============================] - 4s 72us/step - loss: 2.3026 - acc: 0.1000\n",
      "Epoch 61/100\n",
      "50000/50000 [==============================] - 4s 73us/step - loss: 2.3026 - acc: 0.1000\n",
      "Epoch 62/100\n",
      "50000/50000 [==============================] - 4s 72us/step - loss: 2.3026 - acc: 0.1000\n",
      "Epoch 63/100\n",
      "50000/50000 [==============================] - 4s 72us/step - loss: 2.3026 - acc: 0.1000\n",
      "Epoch 64/100\n",
      "50000/50000 [==============================] - 4s 73us/step - loss: 2.3026 - acc: 0.1000\n",
      "Epoch 65/100\n",
      "50000/50000 [==============================] - 4s 72us/step - loss: 2.3026 - acc: 0.1000\n",
      "Epoch 66/100\n",
      "50000/50000 [==============================] - 4s 72us/step - loss: 2.3026 - acc: 0.1000\n",
      "Epoch 67/100\n",
      "50000/50000 [==============================] - 4s 72us/step - loss: 2.3026 - acc: 0.1000\n",
      "Epoch 68/100\n",
      "50000/50000 [==============================] - 4s 72us/step - loss: 2.3026 - acc: 0.1000\n",
      "Epoch 69/100\n",
      "50000/50000 [==============================] - 4s 71us/step - loss: 2.3026 - acc: 0.1000\n",
      "Epoch 70/100\n",
      "50000/50000 [==============================] - 4s 72us/step - loss: 2.3026 - acc: 0.1000\n",
      "Epoch 71/100\n",
      "50000/50000 [==============================] - 4s 72us/step - loss: 2.3026 - acc: 0.1000\n",
      "Epoch 72/100\n",
      "50000/50000 [==============================] - 4s 72us/step - loss: 2.3026 - acc: 0.1000\n",
      "Epoch 73/100\n",
      "50000/50000 [==============================] - 4s 72us/step - loss: 2.3026 - acc: 0.1000\n",
      "Epoch 74/100\n",
      "50000/50000 [==============================] - 4s 72us/step - loss: 2.3026 - acc: 0.1000\n",
      "Epoch 75/100\n",
      "50000/50000 [==============================] - 4s 72us/step - loss: 2.3026 - acc: 0.1000\n",
      "Epoch 76/100\n",
      "50000/50000 [==============================] - 4s 72us/step - loss: 2.3026 - acc: 0.1000\n",
      "Epoch 77/100\n",
      "50000/50000 [==============================] - 4s 72us/step - loss: 2.3026 - acc: 0.1000\n",
      "Epoch 78/100\n",
      "50000/50000 [==============================] - 4s 72us/step - loss: 2.3026 - acc: 0.1000\n",
      "Epoch 79/100\n",
      "50000/50000 [==============================] - 4s 72us/step - loss: 2.3026 - acc: 0.1000\n",
      "Epoch 80/100\n",
      "50000/50000 [==============================] - 4s 72us/step - loss: 2.3026 - acc: 0.1000\n",
      "Epoch 81/100\n"
     ]
    },
    {
     "name": "stdout",
     "output_type": "stream",
     "text": [
      "50000/50000 [==============================] - 4s 72us/step - loss: 2.3026 - acc: 0.1000\n",
      "Epoch 82/100\n",
      "50000/50000 [==============================] - 4s 72us/step - loss: 2.3026 - acc: 0.1000\n",
      "Epoch 83/100\n",
      "50000/50000 [==============================] - 4s 71us/step - loss: 2.3026 - acc: 0.1000\n",
      "Epoch 84/100\n",
      "50000/50000 [==============================] - 4s 72us/step - loss: 2.3026 - acc: 0.1000\n",
      "Epoch 85/100\n",
      "50000/50000 [==============================] - 4s 72us/step - loss: 2.3026 - acc: 0.1000\n",
      "Epoch 86/100\n",
      "50000/50000 [==============================] - 4s 72us/step - loss: 2.3026 - acc: 0.1000\n",
      "Epoch 87/100\n",
      "50000/50000 [==============================] - 4s 72us/step - loss: 2.3026 - acc: 0.1000\n",
      "Epoch 88/100\n",
      "50000/50000 [==============================] - 4s 72us/step - loss: 2.3026 - acc: 0.1000\n",
      "Epoch 89/100\n",
      "50000/50000 [==============================] - 4s 72us/step - loss: 2.3026 - acc: 0.1000\n",
      "Epoch 90/100\n",
      "50000/50000 [==============================] - 4s 72us/step - loss: 2.3026 - acc: 0.1000\n",
      "Epoch 91/100\n",
      "50000/50000 [==============================] - 4s 72us/step - loss: 2.3026 - acc: 0.1000\n",
      "Epoch 92/100\n",
      "50000/50000 [==============================] - 4s 72us/step - loss: 2.3026 - acc: 0.1000\n",
      "Epoch 93/100\n",
      "50000/50000 [==============================] - 4s 72us/step - loss: 2.3026 - acc: 0.1000\n",
      "Epoch 94/100\n",
      "50000/50000 [==============================] - 4s 72us/step - loss: 2.3026 - acc: 0.1000\n",
      "Epoch 95/100\n",
      "50000/50000 [==============================] - 4s 72us/step - loss: 2.3026 - acc: 0.1000\n",
      "Epoch 96/100\n",
      "50000/50000 [==============================] - 4s 72us/step - loss: 2.3026 - acc: 0.1000\n",
      "Epoch 97/100\n",
      "50000/50000 [==============================] - 4s 72us/step - loss: 2.3026 - acc: 0.1000\n",
      "Epoch 98/100\n",
      "50000/50000 [==============================] - 4s 72us/step - loss: 2.3026 - acc: 0.1000\n",
      "Epoch 99/100\n",
      "50000/50000 [==============================] - 4s 73us/step - loss: 2.3026 - acc: 0.1000\n",
      "Epoch 100/100\n",
      "50000/50000 [==============================] - 4s 72us/step - loss: 2.3026 - acc: 0.1000\n"
     ]
    },
    {
     "data": {
      "text/plain": [
       "<keras.callbacks.History at 0x20708ad2a08>"
      ]
     },
     "execution_count": 15,
     "metadata": {},
     "output_type": "execute_result"
    }
   ],
   "source": [
    "classifier.fit(x_train,y_train,batch_size=100,epochs=100)"
   ]
  },
  {
   "cell_type": "markdown",
   "metadata": {},
   "source": [
    "## 預測新圖片，輸入影像前處理要與訓練時相同\n",
    "#### ((X-mean)/(std+1e-7) ):這裡的mean跟std是訓練集的\n",
    "## 維度如下方示範"
   ]
  },
  {
   "cell_type": "code",
   "execution_count": 14,
   "metadata": {},
   "outputs": [
    {
     "data": {
      "text/plain": [
       "array([[ 1.,  1.,  1.,  1.,  1.,  1.,  1.,  1., nan, nan]], dtype=float32)"
      ]
     },
     "execution_count": 14,
     "metadata": {},
     "output_type": "execute_result"
    }
   ],
   "source": [
    "input_example=(np.zeros(shape=(1,32,32,3))-mean_train)/(std_train+1e-7) \n",
    "classifier.predict(input_example)"
   ]
  },
  {
   "cell_type": "code",
   "execution_count": null,
   "metadata": {},
   "outputs": [],
   "source": []
  }
 ],
 "metadata": {
  "kernelspec": {
   "display_name": "Python 3",
   "language": "python",
   "name": "python3"
  },
  "language_info": {
   "codemirror_mode": {
    "name": "ipython",
    "version": 3
   },
   "file_extension": ".py",
   "mimetype": "text/x-python",
   "name": "python",
   "nbconvert_exporter": "python",
   "pygments_lexer": "ipython3",
   "version": "3.7.5"
  }
 },
 "nbformat": 4,
 "nbformat_minor": 2
}
