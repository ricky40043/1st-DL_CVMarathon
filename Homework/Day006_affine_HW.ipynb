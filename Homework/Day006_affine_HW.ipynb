{
 "cells": [
  {
   "cell_type": "markdown",
   "metadata": {},
   "source": [
    "# 作業\n",
    "\n",
    "練習以旋轉變換 + 平移變換來實現仿射變換\n",
    "> 旋轉 45 度 + 縮放 0.5 倍 + 平移 (x+100, y-50)"
   ]
  },
  {
   "cell_type": "code",
   "execution_count": 1,
   "metadata": {},
   "outputs": [],
   "source": [
    "import cv2\n",
    "import time\n",
    "import numpy as np\n",
    "import math\n",
    "\n",
    "img = cv2.imread('data/lena.png')"
   ]
  },
  {
   "cell_type": "markdown",
   "metadata": {},
   "source": [
    "## Affine Transformation - Case 2: any three point"
   ]
  },
  {
   "cell_type": "code",
   "execution_count": 2,
   "metadata": {},
   "outputs": [],
   "source": [
    "def DegreeToDiameter(Degree):\n",
    "    Diameter = Degree*math.pi/180\n",
    "    return Diameter"
   ]
  },
  {
   "cell_type": "code",
   "execution_count": 4,
   "metadata": {},
   "outputs": [
    {
     "name": "stdout",
     "output_type": "stream",
     "text": [
      "Origin Point0=(80, 80)\n",
      "Origin Point1=(300, 100)\n",
      "Origin Point2=(200, 300)\n",
      "Resize  Point0=(231, 206)\n",
      "Resize  Point1=(316, 135)\n",
      "Resize  Point2=(351, 241)\n"
     ]
    }
   ],
   "source": [
    "# 給定兩兩一對，共三對的點\n",
    "# 這邊我們先用手動設定三對點，一般情況下會有點的資料或是透過介面手動標記三個點\n",
    "rows, cols = img.shape[:2]\n",
    "pt1 = np.array([[80,80], [300,100], [200,300]], dtype=np.float32)\n",
    "pt2 = np.array([[80,80], [330,150], [300,300]], dtype=np.float32)\n",
    "\n",
    "RotateAngle = 45\n",
    "Scale = 0.5\n",
    "offestx = 100\n",
    "offsety = -50\n",
    "\n",
    "M_affine = cv2.getRotationMatrix2D((rows/2,cols/2), RotateAngle,Scale )\n",
    "img_affine = cv2.warpAffine(img,M_affine,(rows,cols))\n",
    "M_pts_offest = np.array([[1,0,offestx],[0,1,offsety]],dtype = np.float32)\n",
    "img_affine = cv2.warpAffine(img_affine,M_pts_offest,(rows,cols))\n",
    "\n",
    "M_pts_affine = np.array([[math.cos(DegreeToDiameter(RotateAngle)),math.sin(DegreeToDiameter(RotateAngle))],\n",
    "                [-math.sin(DegreeToDiameter(RotateAngle)),math.cos(DegreeToDiameter(RotateAngle))]] ,dtype = np.float32)\n",
    "M_pts_offest =  np.array([offestx, offsety])\n",
    "transCoor = np.array([rows/2, cols/2])   \n",
    "\n",
    "# 在圖片上標記點\n",
    "img_copy = img.copy()\n",
    "for idx, pts in enumerate(pt1):\n",
    "    pts = tuple(map(int, pts))    \n",
    "    cv2.circle(img_copy, pts, 3, (0, 255, 0), -1)\n",
    "    pointText =  str(idx)+\":(\"+str(pts[0])+\",\"+str(pts[1])+\")\"\n",
    "    cv2.putText(img_copy, pointText, (pts[0]+3, pts[1]+3), cv2.FONT_HERSHEY_TRIPLEX, 0.6, (0, 255, 0), 1)\n",
    "    print('Origin Point{}={}'.format(idx,pts))\n",
    "    \n",
    "for idx, pts in enumerate(pt1):\n",
    "    pts = pt1[idx]-transCoor    \n",
    "    pts_affine = M_pts_affine.dot(pts)*Scale+ transCoor + M_pts_offest\n",
    "    pts_affine = tuple(map(int, pts_affine))\n",
    "    cv2.circle(img_affine, pts_affine, 3, (0, 255, 0), -1)\n",
    "    pointText =  str(idx)+\":(\"+str(pts_affine[0])+\",\"+str(pts_affine[1])+\")\"\n",
    "    cv2.putText(img_affine, pointText, (pts_affine[0]+3, pts_affine[1]+3), cv2.FONT_HERSHEY_TRIPLEX, 0.6, (0, 255, 0), 1)\n",
    "    print('Resize  Point{}={}'.format(idx,pts_affine))\n",
    "\n",
    "# 組合 + 顯示圖片\n",
    "img_show_affine = np.hstack((img_copy, img_affine))\n",
    "while True:\n",
    "    cv2.imshow('affine transformation', img_show_affine)\n",
    "    k = cv2.waitKey(0)\n",
    "    if k == 27:\n",
    "        cv2.destroyAllWindows()\n",
    "        break"
   ]
  },
  {
   "cell_type": "code",
   "execution_count": null,
   "metadata": {},
   "outputs": [],
   "source": []
  },
  {
   "cell_type": "code",
   "execution_count": null,
   "metadata": {},
   "outputs": [],
   "source": []
  }
 ],
 "metadata": {
  "kernelspec": {
   "display_name": "Python 3",
   "language": "python",
   "name": "python3"
  },
  "language_info": {
   "codemirror_mode": {
    "name": "ipython",
    "version": 3
   },
   "file_extension": ".py",
   "mimetype": "text/x-python",
   "name": "python",
   "nbconvert_exporter": "python",
   "pygments_lexer": "ipython3",
   "version": "3.5.6"
  }
 },
 "nbformat": 4,
 "nbformat_minor": 2
}
