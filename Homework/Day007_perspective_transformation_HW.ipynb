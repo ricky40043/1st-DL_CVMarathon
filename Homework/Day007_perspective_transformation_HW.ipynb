{
 "cells": [
  {
   "cell_type": "code",
   "execution_count": 11,
   "metadata": {},
   "outputs": [],
   "source": [
    "import cv2\n",
    "import time\n",
    "import numpy as np\n",
    "\n",
    "img = cv2.imread('data/lesa.jpg')\n",
    "row,col = img.shape[:2]"
   ]
  },
  {
   "cell_type": "code",
   "execution_count": 12,
   "metadata": {},
   "outputs": [],
   "source": [
    "point1 = np.array([[0,147],[0,513],[col,row],[col,41]], dtype = np.float32)\n",
    "\n",
    "point2 = np.array([[0,100],[0,row-100],[col,row-100],[col,100]], dtype = np.float32)"
   ]
  },
  {
   "cell_type": "code",
   "execution_count": 14,
   "metadata": {},
   "outputs": [
    {
     "name": "stdout",
     "output_type": "stream",
     "text": [
      "Origin Point0=(0, 147)\n",
      "Origin Point1=(0, 513)\n",
      "Origin Point2=(909, 683)\n",
      "Origin Point3=(909, 41)\n"
     ]
    }
   ],
   "source": [
    "M = cv2.getPerspectiveTransform(point1, point2) \n",
    "\n",
    "img_copy = img\n",
    "\n",
    "for idx, pts in enumerate(point1):\n",
    "    pts = tuple(map(int, pts))    \n",
    "    cv2.circle(img_copy, pts, 5, (0, 255, 0), -1)\n",
    "    pointText =  str(idx)+\":(\"+str(pts[0])+\",\"+str(pts[1])+\")\"\n",
    "    cv2.putText(img_copy, pointText, (pts[0]+3, pts[1]+3), cv2.FONT_HERSHEY_TRIPLEX, 0.6, (0, 255, 0), 1)\n",
    "    if idx>2:\n",
    "        cv2.line(img_copy, tuple(point1[idx]), tuple(point1[0]), (0, 255, 0), 3)\n",
    "    else:  \n",
    "        cv2.line(img_copy, tuple(point1[idx]) , tuple(point1[idx+1]), (0, 255, 0), 3)\n",
    "\n",
    "    print('Origin Point{}={}'.format(idx,pts))\n",
    "    \n",
    "img_new = cv2.warpPerspective(img_copy, M, (0, 0))\n",
    "img_show_affine = np.hstack((img_copy ,img_new))\n",
    "while True:\n",
    "    cv2.imshow('affine transformation', img_show_affine)\n",
    "    k = cv2.waitKey(0)\n",
    "    if k == 27:\n",
    "        cv2.destroyAllWindows()\n",
    "        break"
   ]
  },
  {
   "cell_type": "code",
   "execution_count": 6,
   "metadata": {},
   "outputs": [
    {
     "ename": "SystemError",
     "evalue": "new style getargs format but argument is not a tuple",
     "output_type": "error",
     "traceback": [
      "\u001b[1;31m---------------------------------------------------------------------------\u001b[0m",
      "\u001b[1;31mSystemError\u001b[0m                               Traceback (most recent call last)",
      "\u001b[1;32m<ipython-input-6-9d75b701b331>\u001b[0m in \u001b[0;36m<module>\u001b[1;34m()\u001b[0m\n\u001b[1;32m----> 1\u001b[1;33m \u001b[0mcv2\u001b[0m\u001b[1;33m.\u001b[0m\u001b[0mline\u001b[0m\u001b[1;33m(\u001b[0m\u001b[0mimg_copy\u001b[0m\u001b[1;33m,\u001b[0m \u001b[0mpoint1\u001b[0m\u001b[1;33m[\u001b[0m\u001b[1;36m0\u001b[0m\u001b[1;33m]\u001b[0m\u001b[1;33m,\u001b[0m \u001b[0mpoint1\u001b[0m\u001b[1;33m[\u001b[0m\u001b[1;36m1\u001b[0m\u001b[1;33m]\u001b[0m\u001b[1;33m,\u001b[0m \u001b[1;33m(\u001b[0m\u001b[1;36m0\u001b[0m\u001b[1;33m,\u001b[0m \u001b[1;36m255\u001b[0m\u001b[1;33m,\u001b[0m \u001b[1;36m0\u001b[0m\u001b[1;33m)\u001b[0m\u001b[1;33m,\u001b[0m \u001b[1;36m3\u001b[0m\u001b[1;33m)\u001b[0m\u001b[1;33m\u001b[0m\u001b[0m\n\u001b[0m",
      "\u001b[1;31mSystemError\u001b[0m: new style getargs format but argument is not a tuple"
     ]
    }
   ],
   "source": [
    "cv2.line(img_copy, point1[0], point1[1], (0, 255, 0), 3)"
   ]
  },
  {
   "cell_type": "code",
   "execution_count": null,
   "metadata": {},
   "outputs": [],
   "source": []
  }
 ],
 "metadata": {
  "kernelspec": {
   "display_name": "Python 3",
   "language": "python",
   "name": "python3"
  },
  "language_info": {
   "codemirror_mode": {
    "name": "ipython",
    "version": 3
   },
   "file_extension": ".py",
   "mimetype": "text/x-python",
   "name": "python",
   "nbconvert_exporter": "python",
   "pygments_lexer": "ipython3",
   "version": "3.5.6"
  }
 },
 "nbformat": 4,
 "nbformat_minor": 2
}
